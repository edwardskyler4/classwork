{
 "cells": [
  {
   "cell_type": "markdown",
   "id": "passing-bryan",
   "metadata": {},
   "source": [
    "# CSE111 - Week 02: Python Review"
   ]
  },
  {
   "cell_type": "markdown",
   "id": "91c2ebc8",
   "metadata": {},
   "source": [
    "***\n",
    "## Coding Style"
   ]
  },
  {
   "cell_type": "code",
   "execution_count": null,
   "id": "fdcda722",
   "metadata": {},
   "outputs": [],
   "source": [
    "# Variables\n",
    "\n",
    "# variables should be singular nouns\n",
    "age = 9 \n",
    "first_name = 'bob'\n",
    "\n",
    "# uless they're a list\n",
    "names = ['bob', 'april']"
   ]
  },
  {
   "cell_type": "code",
   "execution_count": null,
   "id": "7e50cd49",
   "metadata": {},
   "outputs": [],
   "source": [
    "# Spacing\n",
    "\n",
    "# We want space around operators\n",
    "# Wrong: \n",
    "9*4=13\n",
    "\n",
    "# Right:\n",
    "9 * 4 = 13\n"
   ]
  },
  {
   "cell_type": "code",
   "execution_count": null,
   "id": "c05f8a0b",
   "metadata": {},
   "outputs": [],
   "source": [
    "# Import statements\n",
    "\n",
    "# Placed at top of file right after header\n",
    "import math\n",
    "import random"
   ]
  },
  {
   "cell_type": "code",
   "execution_count": null,
   "id": "2584731e",
   "metadata": {},
   "outputs": [],
   "source": [
    "# Header\n",
    "\n",
    "\"\"\"\n",
    "Describe what your code does here. Very important\n",
    "\"\"\""
   ]
  },
  {
   "cell_type": "markdown",
   "id": "52b80518",
   "metadata": {},
   "source": [
    "***\n",
    "## Misc Statements"
   ]
  },
  {
   "cell_type": "code",
   "execution_count": null,
   "id": "967a5bfb",
   "metadata": {},
   "outputs": [],
   "source": [
    "# pass / ...\n",
    "\n",
    "age = 18\n",
    "if age >= 18:\n",
    "    pass # We put this if we wrote the loop but want to do something else before completing this. \"...\" also works. It just gets rid of the error"
   ]
  },
  {
   "cell_type": "code",
   "execution_count": null,
   "id": "1371d47a",
   "metadata": {},
   "outputs": [],
   "source": [
    "# None\n",
    "\n",
    "# None means that the variable represents something, but really nothing.\n",
    "x = None\n",
    "if x == None:\n",
    "    print(\"GH\")\n"
   ]
  },
  {
   "cell_type": "markdown",
   "id": "0c5af458",
   "metadata": {},
   "source": [
    "***\n",
    "## Print statement options"
   ]
  },
  {
   "cell_type": "code",
   "execution_count": null,
   "id": "7931f15f",
   "metadata": {},
   "outputs": [],
   "source": [
    "# end\n",
    "\n",
    "# end changes the natural ending of the statement, which is a newline by default\n",
    "print(1, 2, 3, 4, 5, \"hi\", end='')\n",
    "print(2)"
   ]
  },
  {
   "cell_type": "code",
   "execution_count": null,
   "id": "36c87815",
   "metadata": {},
   "outputs": [],
   "source": [
    "# sep\n",
    "\n",
    "# with a list of things, changes how they're separated\n",
    "print(1, 2, 3, 4, 5, 6, 7, sep=\"-\")"
   ]
  },
  {
   "cell_type": "markdown",
   "id": "51e60bff",
   "metadata": {},
   "source": [
    "***\n",
    "##  Importing modules (Math, Random, datetime)"
   ]
  },
  {
   "cell_type": "code",
   "execution_count": null,
   "id": "66b1bc8b",
   "metadata": {},
   "outputs": [],
   "source": [
    "# math\n",
    "import math\n",
    "\n",
    "print(math.sin(1))\n",
    "print(math.pi)"
   ]
  },
  {
   "cell_type": "code",
   "execution_count": null,
   "id": "de51a0c9",
   "metadata": {},
   "outputs": [],
   "source": [
    "# random module\n",
    "# https://docs.python.org/3/library/random.html\n",
    "\n",
    "import random\n",
    "\n",
    "# randint()\n",
    "for i in range(10):\n",
    "    print(random.int(10, 1000))\n",
    "\n",
    "# choice()\n",
    "\n"
   ]
  },
  {
   "cell_type": "code",
   "execution_count": null,
   "id": "98781dfe",
   "metadata": {},
   "outputs": [],
   "source": [
    "# datetime examples\n",
    "# https://docs.python.org/3/library/datetime.html#strftime-strptime-behavior\n",
    "import datetime\n",
    "\n",
    "today = datetime.datetime.now()\n",
    "print(today.day)\n",
    "print(today.hour)\n",
    "print(today.minute)\n",
    "print(today.month)\n",
    "print(datetime.datetime.strftime(today, '%a: %Y-%b-%d'))"
   ]
  },
  {
   "cell_type": "code",
   "execution_count": null,
   "id": "c68e16ed",
   "metadata": {},
   "outputs": [],
   "source": [
    "# Calendar module\n",
    "import calendar\n",
    "\n",
    "# today = datetime.datetime.now()\n",
    "# print(today.day)\n",
    "\n",
    "print(calendar.isleap(2022))\n",
    "print()\n",
    "\n",
    "print(calendar.month(2022, 2))\n",
    "print(list(calendar.month_name))\n",
    "\n",
    "print()\n",
    "print(calendar.calendar(2022))\n"
   ]
  },
  {
   "cell_type": "markdown",
   "id": "2b87c57f",
   "metadata": {},
   "source": [
    "***\n",
    "## Loops"
   ]
  },
  {
   "cell_type": "code",
   "execution_count": null,
   "id": "0614aa49",
   "metadata": {},
   "outputs": [],
   "source": [
    "# Break statement\n",
    "\n",
    "# break breaks a loop\n",
    "for i in range(10):\n",
    "    if i == 5:\n",
    "        break\n",
    "    print (i)"
   ]
  },
  {
   "cell_type": "code",
   "execution_count": null,
   "id": "5711a78a",
   "metadata": {},
   "outputs": [],
   "source": [
    "# continue statement\n",
    "\n",
    "# continue skips past the rest of the code and continues the loop without completing anything after the continue command\n",
    "for i in range(10):\n",
    "    if i == 5:\n",
    "        continue\n",
    "    print (i)"
   ]
  },
  {
   "cell_type": "code",
   "execution_count": null,
   "id": "de733540",
   "metadata": {},
   "outputs": [],
   "source": [
    "# Using _ as a variable\n",
    "\n",
    "# Using \"_\" tells the computer \"don't make a variable for this,\" which technically makes the program faster, but it doesn't really matter nowadays with how fast computers are\n",
    "for _ in range(3):\n",
    "    print('hi')"
   ]
  },
  {
   "cell_type": "markdown",
   "id": "ee067789",
   "metadata": {},
   "source": [
    "***\n",
    "## String functions\n",
    "https://www.w3schools.com/python/python_ref_string.asp"
   ]
  },
  {
   "cell_type": "code",
   "execution_count": null,
   "id": "46f72987",
   "metadata": {},
   "outputs": [],
   "source": [
    "# capitalize()\n"
   ]
  },
  {
   "cell_type": "code",
   "execution_count": null,
   "id": "0f5513c4",
   "metadata": {},
   "outputs": [],
   "source": [
    "# count()\n"
   ]
  },
  {
   "cell_type": "code",
   "execution_count": null,
   "id": "8f37e85c",
   "metadata": {},
   "outputs": [],
   "source": [
    "# lower(), upper()\n"
   ]
  },
  {
   "cell_type": "code",
   "execution_count": null,
   "id": "78823318",
   "metadata": {},
   "outputs": [],
   "source": [
    "# split()\n"
   ]
  },
  {
   "cell_type": "code",
   "execution_count": null,
   "id": "d14229cd",
   "metadata": {},
   "outputs": [],
   "source": [
    "# replace()\n"
   ]
  },
  {
   "cell_type": "code",
   "execution_count": null,
   "id": "7fc83ef9",
   "metadata": {},
   "outputs": [
    {
     "ename": "",
     "evalue": "",
     "output_type": "error",
     "traceback": [
      "\u001b[1;31mRunning cells with 'Python 3.13.3' requires the ipykernel package.\n",
      "\u001b[1;31m<a href='command:jupyter.createPythonEnvAndSelectController'>Create a Python Environment</a> with the required packages."
     ]
    }
   ],
   "source": [
    "# is functions\n",
    "\n",
    "# isalnum()      Returns True if all characters in the string are alphanumeric\n",
    "# isalpha()      Returns True if all characters in the string are in the alphabet\n",
    "# isdecimal()    Returns True if all characters in the string are decimals\n",
    "# isdigit()      Returns True if all characters in the string are digits\n",
    "# islower()      Returns True if all characters in the string are lower case\n",
    "# isnumeric()    Returns True if all characters in the string are numeric\n",
    "\n"
   ]
  },
  {
   "cell_type": "markdown",
   "id": "467b50f5",
   "metadata": {},
   "source": [
    "***\n",
    "## Lists"
   ]
  },
  {
   "cell_type": "code",
   "execution_count": null,
   "id": "e229ebf7",
   "metadata": {},
   "outputs": [],
   "source": [
    "# Multiplication operator\n"
   ]
  },
  {
   "cell_type": "code",
   "execution_count": null,
   "id": "70064ee4",
   "metadata": {},
   "outputs": [],
   "source": [
    "# list comprehensions\n",
    "# https://www.w3schools.com/python/python_lists_comprehension.asp\n"
   ]
  },
  {
   "cell_type": "code",
   "execution_count": null,
   "id": "e35c4797",
   "metadata": {},
   "outputs": [],
   "source": [
    "# create a list of the abc..xyz\n",
    "# ['a', 'b', 'c', .... 'z']\n"
   ]
  },
  {
   "cell_type": "code",
   "execution_count": null,
   "id": "e8970065",
   "metadata": {},
   "outputs": [],
   "source": [
    "names = ['john', 'mary', 'april', 'joe', 'nathan', 'bob']\n",
    "\n",
    "# create a list where the names are length 4\n"
   ]
  },
  {
   "cell_type": "code",
   "execution_count": null,
   "id": "5420265b",
   "metadata": {},
   "outputs": [],
   "source": [
    " # Morse Code Program\n",
    "    \n",
    "letters = ['.-', '-...', '-.-.', '-..', '.', '..-.', '--.', '....', '..', '.---', '-.-', \n",
    "           '.-..', '--', '-.', '---', '.--.', '--.-', '.-.', '...', '-', '..-', '...-', \n",
    "           '.--', '-..-', '-.--', '--..']\n",
    "space = '.....'\n"
   ]
  },
  {
   "cell_type": "markdown",
   "id": "d61c46b6",
   "metadata": {},
   "source": [
    "***\n",
    "## display square shape of any size n\n",
    "```\n",
    "n = 4\n",
    "\n",
    "1 5 9 13\n",
    "2 6 10 14\n",
    "3 7 11 15\n",
    "4 8 12 16\n",
    "```"
   ]
  },
  {
   "cell_type": "code",
   "execution_count": null,
   "id": "93f00bd7",
   "metadata": {},
   "outputs": [],
   "source": [
    "size = int(input('Enter size of square: '))\n"
   ]
  },
  {
   "cell_type": "markdown",
   "id": "5b2aec36",
   "metadata": {},
   "source": [
    "***\n",
    "## display pyamide shape of any size n\n",
    "```\n",
    "n = 4\n",
    "\n",
    "   *\n",
    "  * *\n",
    " *   *\n",
    "*     *\n",
    " *   *\n",
    "  * *\n",
    "   *\n",
    "```"
   ]
  },
  {
   "cell_type": "code",
   "execution_count": null,
   "id": "e0ed0016",
   "metadata": {},
   "outputs": [],
   "source": [
    "size = int(input('Enter size of diamond: '))\n"
   ]
  },
  {
   "cell_type": "markdown",
   "id": "11b31e10",
   "metadata": {},
   "source": [
    "# Diamond Pattern 1\n",
    "\n",
    "```\n",
    "n = 5\n",
    "\n",
    "1\n",
    "12\n",
    "123\n",
    "1234\n",
    "12345\n",
    "```"
   ]
  },
  {
   "cell_type": "code",
   "execution_count": null,
   "id": "b25d9af7",
   "metadata": {},
   "outputs": [],
   "source": [
    "size = int(input('Enter size of diamond: '))\n"
   ]
  },
  {
   "cell_type": "markdown",
   "id": "9fc410ac",
   "metadata": {},
   "source": [
    "# Diamond Pattern 2\n",
    "\n",
    "```\n",
    "n = 5\n",
    "\n",
    "1\n",
    "01\n",
    "101\n",
    "0101\n",
    "10101\n",
    "```"
   ]
  },
  {
   "cell_type": "code",
   "execution_count": null,
   "id": "3bf0425f",
   "metadata": {},
   "outputs": [],
   "source": [
    "size = int(input('Enter size of diamond: '))\n"
   ]
  },
  {
   "cell_type": "markdown",
   "id": "fbcba5b2",
   "metadata": {},
   "source": [
    "# Diamond Pattern 3\n",
    "\n",
    "```\n",
    "n = 5\n",
    "\n",
    "*****\n",
    " ***\n",
    "  *\n",
    " ***\n",
    "*****\n",
    "```"
   ]
  },
  {
   "cell_type": "code",
   "execution_count": null,
   "id": "88dc49e9",
   "metadata": {},
   "outputs": [],
   "source": [
    "size = int(input('Enter size of diamond: '))\n"
   ]
  },
  {
   "cell_type": "markdown",
   "id": "4c538c46",
   "metadata": {},
   "source": [
    "# Diamond Pattern 4\n",
    "\n",
    "```\n",
    "n = 5\n",
    "\n",
    "54321\n",
    "4321\n",
    "321\n",
    "21\n",
    "1\n",
    "1\n",
    "21\n",
    "321\n",
    "4321\n",
    "54321\n",
    "```"
   ]
  },
  {
   "cell_type": "code",
   "execution_count": null,
   "id": "5b90a5d0",
   "metadata": {},
   "outputs": [],
   "source": [
    "size = int(input('Enter size of diamond: '))\n"
   ]
  },
  {
   "cell_type": "markdown",
   "id": "50f99ec0",
   "metadata": {},
   "source": [
    "# Diamond Pattern 5\n",
    "\n",
    "```\n",
    "n = 5\n",
    "\n",
    " 1\n",
    " 2  3\n",
    " 4  5  6\n",
    " 7  8  9 10\n",
    "11 12 13 14 15\n",
    "```"
   ]
  },
  {
   "cell_type": "code",
   "execution_count": null,
   "id": "7182cf98",
   "metadata": {},
   "outputs": [],
   "source": [
    "size = int(input('Enter size of diamond: '))\n"
   ]
  },
  {
   "cell_type": "markdown",
   "id": "fb0aa562",
   "metadata": {},
   "source": [
    "# Diamond Pattern 6\n",
    "\n",
    "```\n",
    "n = 5\n",
    "\n",
    "    1\n",
    "   1 1\n",
    "  1 2 1\n",
    " 1 3 3 1\n",
    "1 4 6 4 1\n",
    "```"
   ]
  },
  {
   "cell_type": "code",
   "execution_count": null,
   "id": "01ad7249",
   "metadata": {},
   "outputs": [],
   "source": [
    "size = int(input('Enter size of diamond: '))\n"
   ]
  }
 ],
 "metadata": {
  "kernelspec": {
   "display_name": "Python 3",
   "language": "python",
   "name": "python3"
  },
  "language_info": {
   "codemirror_mode": {
    "name": "ipython",
    "version": 3
   },
   "file_extension": ".py",
   "mimetype": "text/x-python",
   "name": "python",
   "nbconvert_exporter": "python",
   "pygments_lexer": "ipython3",
   "version": "3.13.3"
  }
 },
 "nbformat": 4,
 "nbformat_minor": 5
}
