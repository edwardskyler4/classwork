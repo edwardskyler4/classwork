{
 "cells": [
  {
   "cell_type": "markdown",
   "id": "passing-bryan",
   "metadata": {},
   "source": [
    "# CSE111 - Week 01: Review of Python"
   ]
  },
  {
   "cell_type": "markdown",
   "id": "91c2ebc8",
   "metadata": {},
   "source": [
    "***\n",
    "## Coding style"
   ]
  },
  {
   "cell_type": "code",
   "execution_count": null,
   "id": "7c0ad195",
   "metadata": {},
   "outputs": [],
   "source": [
    "# Naming, spacing, comments\n",
    "age = 10\n",
    "name = 'bob smith'\n",
    "first_name = 'bob'\n",
    "\n",
    "x = 1 + 2 / 6  # good\n",
    "x=1+2/5   # bad\n",
    "\n",
    "rate = 1.0   # set rate to be 10%"
   ]
  },
  {
   "cell_type": "code",
   "execution_count": null,
   "id": "06cc046c",
   "metadata": {},
   "outputs": [],
   "source": [
    "# triple quotes\n",
    "\n",
    "# line comment\n",
    "\n",
    "\"\"\" \n",
    "dfg\n",
    "dfg\n",
    "dfg\n",
    "\"\"\"\n",
    "\n",
    "''' \n",
    "sdfg\n",
    "sdfg\n",
    "sdfg\n",
    "'''\n"
   ]
  },
  {
   "cell_type": "markdown",
   "id": "8825b0c7",
   "metadata": {},
   "source": [
    "***\n",
    "## Variables and Types"
   ]
  },
  {
   "cell_type": "code",
   "execution_count": null,
   "id": "88186658",
   "metadata": {},
   "outputs": [],
   "source": [
    "# int, float, str and boolean\n",
    "age = 10\n",
    "gpa = 3.999\n",
    "name = 'Bob'\n",
    "can_vote = False"
   ]
  },
  {
   "cell_type": "code",
   "execution_count": 2,
   "id": "9f04c37c",
   "metadata": {},
   "outputs": [
    {
     "name": "stdout",
     "output_type": "stream",
     "text": [
      "0.30000000000000004\n",
      "0.6000000000000001\n",
      "0.8999999999999999\n",
      "1.2000000000000002\n",
      "1.5\n",
      "1.7999999999999998\n",
      "2.0999999999999996\n"
     ]
    }
   ],
   "source": [
    "print(0.1 * 3)\n",
    "print(0.2 * 3)\n",
    "print(0.3 * 3)\n",
    "print(0.4 * 3)\n",
    "print(0.5 * 3)\n",
    "print(0.6 * 3)\n",
    "print(0.7 * 3)"
   ]
  },
  {
   "cell_type": "code",
   "execution_count": 3,
   "id": "a1f6eb8c",
   "metadata": {},
   "outputs": [
    {
     "name": "stdout",
     "output_type": "stream",
     "text": [
      "<class 'int'>\n",
      "<class 'str'>\n",
      "<class 'bool'>\n"
     ]
    }
   ],
   "source": [
    "# the type() function\n",
    "a = 10\n",
    "print(type(a))\n",
    "a = 'bob'\n",
    "print(type(a))\n",
    "a = True\n",
    "print(type(a))\n"
   ]
  },
  {
   "cell_type": "code",
   "execution_count": 6,
   "id": "fbcd3e78",
   "metadata": {},
   "outputs": [
    {
     "name": "stdout",
     "output_type": "stream",
     "text": [
      "10\n",
      "20\n",
      "30\n"
     ]
    }
   ],
   "source": [
    "# Shorthand operators\n",
    "x = 10\n",
    "print(x)\n",
    "x = x + 10\n",
    "print(x)\n",
    "x += 10\n",
    "print(x)\n"
   ]
  },
  {
   "cell_type": "markdown",
   "id": "14fb18e1",
   "metadata": {},
   "source": [
    "***\n",
    "## print() statement with argument options"
   ]
  },
  {
   "cell_type": "code",
   "execution_count": 13,
   "id": "7c0ad195",
   "metadata": {},
   "outputs": [
    {
     "name": "stdout",
     "output_type": "stream",
     "text": [
      "My name is Bob , I am 10 years old\n",
      "My name is {name}, I am {age} years old\n",
      "My name is Bob, I am 10 years old\n"
     ]
    }
   ],
   "source": [
    "# Formatted String\n",
    "age = 10\n",
    "name = 'Bob'\n",
    "\n",
    "print('My name is', name, ', I am', age, 'years old')\n",
    "print('My name is {name}, I am {age} years old')\n",
    "print(f'My name is {name}, I am {age} years old')"
   ]
  },
  {
   "cell_type": "code",
   "execution_count": 21,
   "id": "54f99584",
   "metadata": {},
   "outputs": [
    {
     "name": "stdout",
     "output_type": "stream",
     "text": [
      "hi there.\n"
     ]
    }
   ],
   "source": [
    "# Using end=\n",
    "print('hi', end=' ')\n",
    "print('there', end='')\n",
    "print('.')"
   ]
  },
  {
   "cell_type": "code",
   "execution_count": 23,
   "id": "3bc2a9f2",
   "metadata": {},
   "outputs": [
    {
     "name": "stdout",
     "output_type": "stream",
     "text": [
      "1, 2, 3, 4, 5\n"
     ]
    }
   ],
   "source": [
    "# Using sep=\n",
    "print(1, 2, 3, 4, 5, sep=', ')"
   ]
  },
  {
   "cell_type": "markdown",
   "id": "91c2ebc8",
   "metadata": {},
   "source": [
    "***\n",
    "## Math and order of operations"
   ]
  },
  {
   "cell_type": "code",
   "execution_count": 25,
   "id": "7c0ad195",
   "metadata": {},
   "outputs": [
    {
     "name": "stdout",
     "output_type": "stream",
     "text": [
      "1.0\n"
     ]
    }
   ],
   "source": [
    "x = (1 + 3) / 4\n",
    "print(x)"
   ]
  },
  {
   "cell_type": "code",
   "execution_count": null,
   "id": "7233763b",
   "metadata": {},
   "outputs": [
    {
     "name": "stdout",
     "output_type": "stream",
     "text": [
      "2.857142857142857\n",
      "2\n",
      "6\n"
     ]
    }
   ],
   "source": [
    "a = 20\n",
    "b = 7\n",
    "print(a / b)\n",
    "print(a // b)  # int\n",
    "print(a % b)   # int"
   ]
  },
  {
   "cell_type": "markdown",
   "id": "062f6d41",
   "metadata": {},
   "source": [
    "***\n",
    "## If, elif statements"
   ]
  },
  {
   "cell_type": "code",
   "execution_count": 31,
   "id": "0b0945c7",
   "metadata": {},
   "outputs": [
    {
     "name": "stdout",
     "output_type": "stream",
     "text": [
      "can't vote\n",
      "can't vote\n"
     ]
    }
   ],
   "source": [
    "age = 8\n",
    "if age >= 18:\n",
    "    print('Can vote!!!')\n",
    "else:\n",
    "    # print('can't vote')\n",
    "    print(\"can't vote\")\n",
    "    print('can\\'t vote')"
   ]
  },
  {
   "cell_type": "markdown",
   "id": "dea860d2",
   "metadata": {},
   "source": [
    "***\n",
    "## for and while loops"
   ]
  },
  {
   "cell_type": "code",
   "execution_count": 35,
   "id": "820d4f2d",
   "metadata": {},
   "outputs": [
    {
     "name": "stdout",
     "output_type": "stream",
     "text": [
      "2\n",
      "5\n",
      "8\n"
     ]
    }
   ],
   "source": [
    "for i in range(2, 10, 3):\n",
    "    print(i)"
   ]
  },
  {
   "cell_type": "code",
   "execution_count": 37,
   "id": "8fb16e53",
   "metadata": {},
   "outputs": [
    {
     "name": "stdout",
     "output_type": "stream",
     "text": [
      "10, 7, 4, 1, "
     ]
    }
   ],
   "source": [
    "for i in range(10, -1, -3):\n",
    "    print(i, end=', ')"
   ]
  },
  {
   "cell_type": "markdown",
   "id": "cf87dc66",
   "metadata": {},
   "source": [
    "***\n",
    "## lists and tuples"
   ]
  },
  {
   "cell_type": "code",
   "execution_count": null,
   "id": "35af268a",
   "metadata": {},
   "outputs": [
    {
     "name": "stdout",
     "output_type": "stream",
     "text": [
      "[1, 2, 3]\n",
      "(1, 2, 3)\n"
     ]
    }
   ],
   "source": [
    "a = [1, 2, 3]\n",
    "b = (1, 2, 3)   # read only  less memory\n",
    "\n",
    "print(a)\n",
    "print(b)"
   ]
  },
  {
   "cell_type": "markdown",
   "id": "95177570",
   "metadata": {},
   "source": [
    "***\n",
    "## reading files"
   ]
  },
  {
   "cell_type": "code",
   "execution_count": null,
   "id": "c8cd5331",
   "metadata": {},
   "outputs": [],
   "source": [
    "filename = 'data.txt'\n"
   ]
  },
  {
   "cell_type": "markdown",
   "id": "1855c076",
   "metadata": {},
   "source": [
    "***\n",
    "## Coding example: Total values in a list and calculate average"
   ]
  },
  {
   "cell_type": "code",
   "execution_count": null,
   "id": "95304858",
   "metadata": {},
   "outputs": [],
   "source": []
  },
  {
   "cell_type": "markdown",
   "id": "a04823e3",
   "metadata": {},
   "source": [
    "***\n",
    "## Coding example: Count number of words in a sentence"
   ]
  },
  {
   "cell_type": "code",
   "execution_count": null,
   "id": "0e54f71c",
   "metadata": {},
   "outputs": [],
   "source": []
  },
  {
   "cell_type": "markdown",
   "id": "4e89f4b0",
   "metadata": {},
   "source": [
    "***\n",
    "## Coding example: Count vowels in a sentence"
   ]
  },
  {
   "cell_type": "code",
   "execution_count": null,
   "id": "c3da5001",
   "metadata": {},
   "outputs": [],
   "source": []
  },
  {
   "cell_type": "markdown",
   "id": "ac312a27",
   "metadata": {},
   "source": [
    "***\n",
    "## Coding example: Find smallest value in a random list of numbers"
   ]
  },
  {
   "cell_type": "code",
   "execution_count": null,
   "id": "f20caeae",
   "metadata": {},
   "outputs": [],
   "source": [
    "\n"
   ]
  },
  {
   "cell_type": "markdown",
   "id": "ac312a27",
   "metadata": {},
   "source": [
    "***\n",
    "## Coding example: Given two lists, display all values in common"
   ]
  },
  {
   "cell_type": "code",
   "execution_count": null,
   "id": "034e9989",
   "metadata": {},
   "outputs": [],
   "source": [
    "list1 = [1, 45, 3, 7, 789, 5, 234, 12, 45, 67, 89, 56, 345, 23, 5678]\n",
    "list2 = [1, 3, 6, 7, 8, 9, 0, 123, 234, 345, 456, 567, 678]\n"
   ]
  },
  {
   "cell_type": "markdown",
   "id": "ac312a27",
   "metadata": {},
   "source": [
    "***\n",
    "## Coding example: find nth even number in a list"
   ]
  },
  {
   "cell_type": "code",
   "execution_count": null,
   "id": "034e9989",
   "metadata": {},
   "outputs": [],
   "source": [
    "values = [1, 2, 3, 4, 5, 6, 7, 8, 9, 10, 11, 12, 13, 14, 15, 16, 17, 18]\n",
    "n = 5\n"
   ]
  },
  {
   "cell_type": "markdown",
   "id": "ac312a27",
   "metadata": {},
   "source": [
    "***\n",
    "## Coding example: find smallest, largest number in a list (find the second highest)"
   ]
  },
  {
   "cell_type": "code",
   "execution_count": null,
   "id": "034e9989",
   "metadata": {},
   "outputs": [],
   "source": [
    "import random\n",
    "\n",
    "values = []\n",
    "for i in range(100):\n",
    "    values.append(random.randint(1, 100000))\n",
    "print(values)\n"
   ]
  },
  {
   "cell_type": "markdown",
   "id": "ac312a27",
   "metadata": {},
   "source": [
    "***\n",
    "## Coding example: Display factors of a number"
   ]
  },
  {
   "cell_type": "code",
   "execution_count": 6,
   "id": "034e9989",
   "metadata": {},
   "outputs": [
    {
     "name": "stdout",
     "output_type": "stream",
     "text": [
      "[1, 360, 2, 180, 3, 120, 4, 90, 5, 72, 6, 60, 8, 45, 9, 40, 10, 36, 12, 30, 15, 24]\n",
      "[1, 2, 3, 4, 5, 6, 8, 9, 10, 12, 15, 24, 30, 36, 40, 45, 60, 72, 90, 120, 180, 360]\n"
     ]
    }
   ],
   "source": [
    "import math\n",
    "\n",
    "n = 360\n",
    "\n",
    "# 6 -> 1, 2, 3, 6\n",
    "\n",
    "factors = [1, n]       # We always have 1 and n as a factors\n",
    "\n",
    "# Only need to loop to square root of n\n",
    "for i in range(2, int(math.sqrt(n))): \n",
    "    if n % i == 0:\n",
    "        factors.append(i)\n",
    "        factors.append(n // i)\n",
    "\n",
    "print(factors)\n",
    "print(sorted(factors))"
   ]
  }
 ],
 "metadata": {
  "kernelspec": {
   "display_name": "Python 3",
   "language": "python",
   "name": "python3"
  },
  "language_info": {
   "codemirror_mode": {
    "name": "ipython",
    "version": 3
   },
   "file_extension": ".py",
   "mimetype": "text/x-python",
   "name": "python",
   "nbconvert_exporter": "python",
   "pygments_lexer": "ipython3",
   "version": "3.13.3"
  }
 },
 "nbformat": 4,
 "nbformat_minor": 5
}
